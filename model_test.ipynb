{
 "cells": [
  {
   "cell_type": "code",
   "execution_count": 1,
   "metadata": {},
   "outputs": [],
   "source": [
    "from sklearn.datasets import fetch_20newsgroups\n",
    "data = fetch_20newsgroups(subset='all')['data']"
   ]
  },
  {
   "cell_type": "code",
   "execution_count": 2,
   "metadata": {},
   "outputs": [
    {
     "name": "stderr",
     "output_type": "stream",
     "text": [
      "/Users/brittonstoakes/Documents/Projects/TopicModeling/.venv/lib/python3.9/site-packages/tqdm/auto.py:22: TqdmWarning: IProgress not found. Please update jupyter and ipywidgets. See https://ipywidgets.readthedocs.io/en/stable/user_install.html\n",
      "  from .autonotebook import tqdm as notebook_tqdm\n",
      "Downloading: 100%|██████████| 690/690 [00:00<00:00, 227kB/s]\n",
      "Downloading: 100%|██████████| 190/190 [00:00<00:00, 143kB/s]\n",
      "Downloading: 100%|██████████| 3.99k/3.99k [00:00<00:00, 2.99MB/s]\n",
      "Downloading: 100%|██████████| 550/550 [00:00<00:00, 402kB/s]\n",
      "Downloading: 100%|██████████| 122/122 [00:00<00:00, 87.1kB/s]\n",
      "Downloading: 100%|██████████| 265M/265M [00:03<00:00, 80.5MB/s] \n",
      "Downloading: 100%|██████████| 53.0/53.0 [00:00<00:00, 42.7kB/s]\n",
      "Downloading: 100%|██████████| 112/112 [00:00<00:00, 94.2kB/s]\n",
      "Downloading: 100%|██████████| 466k/466k [00:00<00:00, 10.7MB/s]\n",
      "Downloading: 100%|██████████| 450/450 [00:00<00:00, 337kB/s]\n",
      "Downloading: 100%|██████████| 232k/232k [00:00<00:00, 7.58MB/s]\n",
      "Downloading: 100%|██████████| 229/229 [00:00<00:00, 155kB/s]\n",
      "Batches: 100%|██████████| 589/589 [04:49<00:00,  2.03it/s]\n"
     ]
    }
   ],
   "source": [
    "from sentence_transformers import SentenceTransformer\n",
    "model = SentenceTransformer('distilbert-base-nli-mean-tokens')\n",
    "embeddings = model.encode(data, show_progress_bar=True)"
   ]
  },
  {
   "cell_type": "code",
   "execution_count": 3,
   "metadata": {},
   "outputs": [],
   "source": [
    "import umap\n",
    "umap_embeddings = umap.UMAP(n_neighbors=15, \n",
    "                            n_components=5, \n",
    "                            metric='cosine').fit_transform(embeddings)"
   ]
  },
  {
   "cell_type": "code",
   "execution_count": null,
   "metadata": {},
   "outputs": [],
   "source": []
  }
 ],
 "metadata": {
  "kernelspec": {
   "display_name": ".venv",
   "language": "python",
   "name": "python3"
  },
  "language_info": {
   "codemirror_mode": {
    "name": "ipython",
    "version": 3
   },
   "file_extension": ".py",
   "mimetype": "text/x-python",
   "name": "python",
   "nbconvert_exporter": "python",
   "pygments_lexer": "ipython3",
   "version": "3.9.6"
  },
  "orig_nbformat": 4,
  "vscode": {
   "interpreter": {
    "hash": "1965aa9eb6078419c41431e8b90cef43c29685af027a752df508bdae5ff89c5f"
   }
  }
 },
 "nbformat": 4,
 "nbformat_minor": 2
}
